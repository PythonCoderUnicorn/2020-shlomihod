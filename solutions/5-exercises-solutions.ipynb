{
  "cells": [
    {
      "cell_type": "markdown",
      "source": [
        "# Workshop // Exploring Gender Bias in Word Embedding\n",
        "\n",
        "## https://learn.responsibly.ai/word-embedding\n",
        "\nPowerd by [`responsibly`](https://docs.responsibly.ai/) - Toolkit for auditing and mitigating bias and fairness of machine learning systems 🔎🤖🧰"
      ],
      "metadata": {
        "id": "ZqMESMMaTM59"
      }
    },
    {
      "cell_type": "markdown",
      "source": [
        "# Part Eleven: Your Turn! SOLUTIONS\n",
        "<big>⌨️</big>\n",
        "\nNote: The first two tasks require a basic background in Python programming. For the last task, you need some experience with Machine Learning and Natural Langauge Processing (NLP) as well."
      ],
      "metadata": {
        "id": "EVMLVzKaTM5-"
      }
    },
    {
      "cell_type": "code",
      "source": [
        "from responsibly.we import load_w2v_small\n",
        "\nw2v_small = load_w2v_small()"
      ],
      "outputs": [],
      "execution_count": null,
      "metadata": {
        "id": "BgsASXY2TM5_"
      }
    },
    {
      "cell_type": "markdown",
      "source": [
        "## Task 1 - Racial bias\n",
        "\nLet's explor racial bias usint Tolga's approche. Will use the [`responsibly.we.BiasWordEmbedding`](http://docs.responsibly.ai/word-embedding-bias.html#ethically.we.bias.BiasWordEmbedding) class. `GenderBiasWE` is a sub-class of `BiasWordEmbedding`."
      ],
      "metadata": {
        "id": "gPVjrwpwTM6G"
      }
    },
    {
      "cell_type": "code",
      "source": [
        "from responsibly.we import BiasWordEmbedding\n",
        "\nw2v_small_racial_bias = BiasWordEmbedding(w2v_small, only_lower=True)"
      ],
      "outputs": [],
      "execution_count": null,
      "metadata": {
        "id": "8gB82y7hTM6H"
      }
    },
    {
      "cell_type": "markdown",
      "source": [
        "💎💎💎 Identify the racial direction using the `sum` method"
      ],
      "metadata": {
        "id": "V5Pa-_OOTM6J"
      }
    },
    {
      "cell_type": "code",
      "source": [
        "white_common_names = ['Emily', 'Anne', 'Jill', 'Allison', 'Laurie', 'Sarah', 'Meredith', 'Carrie',\n",
        "                      'Kristen', 'Todd', 'Neil', 'Geoffrey', 'Brett', 'Brendan', 'Greg', 'Matthew',\n",
        "                      'Jay', 'Brad']\n",
        "\n",
        "black_common_names = ['Aisha', 'Keisha', 'Tamika', 'Lakisha', 'Tanisha', 'Latoya', 'Kenya', 'Latonya',\n",
        "                      'Ebony', 'Rasheed', 'Tremayne', 'Kareem', 'Darnell', 'Tyrone', 'Hakim', 'Jamal',\n",
        "                      'Leroy', 'Jermaine']\n",
        "\n",
        "w2v_small_racial_bias._identify_direction('Whites', 'Blacks',\n",
        "                                          definitional=(white_common_names, black_common_names),\n",
        "                                          method='sum')"
      ],
      "outputs": [],
      "execution_count": null,
      "metadata": {
        "id": "d8NjJ3fPTM6K"
      }
    },
    {
      "cell_type": "markdown",
      "source": [
        "Use the neutral profession names to measure the racial bias"
      ],
      "metadata": {
        "id": "BQzNVMgITM6N"
      }
    },
    {
      "cell_type": "code",
      "source": [
        "from responsibly.we.data import BOLUKBASI_DATA\n",
        "\nneutral_profession_names = BOLUKBASI_DATA['gender']['neutral_profession_names']"
      ],
      "outputs": [],
      "execution_count": null,
      "metadata": {
        "id": "6VsIaNeTTM6N"
      }
    },
    {
      "cell_type": "code",
      "source": [
        "neutral_profession_names[:10]"
      ],
      "outputs": [],
      "execution_count": null,
      "metadata": {
        "colab": {
          "base_uri": "https://localhost:8080/",
          "height": 187
        },
        "id": "iQMUSBpKTM6Q",
        "outputId": "d129a64f-84a4-455d-f874-782788f376a4"
      }
    },
    {
      "cell_type": "code",
      "source": [
        "import matplotlib.pylab as plt\n",
        "\n",
        "f, ax = plt.subplots(1, figsize=(10, 10))\n",
        "\nw2v_small_racial_bias.plot_projection_scores(neutral_profession_names, n_extreme=20, ax=ax);"
      ],
      "outputs": [],
      "execution_count": null,
      "metadata": {
        "colab": {
          "base_uri": "https://localhost:8080/",
          "height": 621
        },
        "id": "E3appKv5TM6S",
        "outputId": "95025f45-35ce-4d7b-b399-c97a8c2e3643"
      }
    },
    {
      "cell_type": "markdown",
      "source": [
        "Calculate the direct bias measure"
      ],
      "metadata": {
        "id": "QvmZXAdKTM6Z"
      }
    },
    {
      "cell_type": "code",
      "source": [
        "w2v_small_racial_bias.calc_direct_bias(neutral_profession_names)"
      ],
      "outputs": [],
      "execution_count": null,
      "metadata": {
        "id": "80S8S-3hTM6a"
      }
    },
    {
      "cell_type": "markdown",
      "source": [
        "## Task 2 - Your WEAT test\n",
        "\nOpen the [word embedding demo page in `responsibly` documentation](http://docs.responsibly.ai/notebooks/demo-word-embedding-bias.html#it-is-possible-also-to-expirements-with-new-target-word-sets-as-in-this-example-citizen-immigrant), and look on the use of the function `calc_weat_pleasant_unpleasant_attribute`. What was the attempt in that experiment? What was the result? Can you come up with other experiments?"
      ],
      "metadata": {
        "id": "g9mOVcXWTM6g"
      }
    },
    {
      "cell_type": "code",
      "source": [
        "from responsibly.we import calc_weat_pleasant_unpleasant_attribute"
      ],
      "outputs": [],
      "execution_count": null,
      "metadata": {
        "id": "hvlhI95-TM6h"
      }
    },
    {
      "cell_type": "code",
      "source": [
        "targets = {'first_target': {'name': 'White common names',\n",
        "                            'words': white_common_names},\n",
        "          'second_target': {'name': 'Black common names',\n",
        "                            'words': black_common_names}}\n",
        "\n",
        "calc_weat_pleasant_unpleasant_attribute(w2v_small, **targets,\n",
        "                                        pvalue_kwargs={'method': 'approximate'})"
      ],
      "outputs": [],
      "execution_count": null,
      "metadata": {
        "id": "VMmc9vNwTM6j"
      }
    },
    {
      "cell_type": "markdown",
      "source": [
        "## Task 3 - Sentiment Analysis\n",
        "\n",
        "#### Notes:\n",
        "1. This task requires some background with NLP, particularly with training a text classifier in Python.\n",
        "2. Our goal is to learn how word embeddings might affect downstream application from a gender bias perspective, focusing on learning. So we won't follow the best practices in NLP or use the most advanced techniques.\n",
        "\n",
        "One way to examine bias in word embeddings is through a downstream application. Here we will use a sentiment analysis classifier of tweets; given a tweet, the system would infer the *valence* of the sentiment expressed in a tweet. The valence is expressed as a real number between 0 and 1, where 0 represents the negative and 1 is for the positive end.\n",
        "\n",
        "The system is going to be rather simple and consists of three components:\n",
        "\n",
        "1. Preprocessing (e.g., removing stopwords and punctuation, [tockenization](https://en.wikipedia.org/wiki/Text_segmentation#Word_segmentation))\n",
        "2. Transforming the tweets' tokens  into a single 300-dimensional vector.\n",
        "3. Applying logistic regression to predict the valence.\n",
        "\n",
        "Our goal is to assess the word embedding's impact in its original version and the neutralize-\"debiased\" one on the system bias. We are going to build two versions of that system, each using one version of the two word embedding, and compare its performance on the [Equity Evaluation Corpus (EEC)](http://saifmohammad.com/WebPages/Biases-SA.html), which is designed to assess gender bias in sentiment analysis systems.\n",
        "\n",
        "**Reference:**\n",
        "Kiritchenko, S., & Mohammad, S. M. (2018). [Examining gender and race bias in two hundred sentiment analysis systems](https://arxiv.org/pdf/1805.04508.pdf). arXiv preprint arXiv:1805.04508."
      ],
      "metadata": {
        "id": "9Fud0_MaTM6o"
      }
    },
    {
      "cell_type": "markdown",
      "source": [
        "### Data\n",
        "\n",
        "First, let's load the datasets \"Affect in Tweets\" taken from the [SemEval 2018](https://competitions.codalab.org/competitions/17751#learn_the_details-datasets) competition. We have training, development, and test datasets. We will only use the first and the last datasets, but feel free to use the development dataset to tune select models and hyperparameters with cross-validation.\n",
        "\n",
        "There are three columns:\n",
        "\n",
        "1. `Tweet` - The tweet itself as a string, the input.\n",
        "2. `Intensity Score` - The sentiment's valence of the tweet in the range [0, 1], the output\n",
        "3. `Affect Dimension` - You can ignore it. It is `'valence'` for all of the data points.\n"
      ],
      "metadata": {
        "id": "iZY369yFKD91"
      }
    },
    {
      "cell_type": "code",
      "source": [
        "import pandas as pd\n",
        "\n\n",
        "train_df = pd.read_csv('../data/SemEval2018-Task1-all-data/English/V-reg/2018-Valence-reg-En-train.txt',\n",
        "                       sep='\\t', index_col=0)\n",
        "dev_df = pd.read_csv('../data/SemEval2018-Task1-all-data/English/V-reg/2018-Valence-reg-En-dev.txt',\n",
        "                       sep='\\t', index_col=0)\n",
        "test_df = pd.read_csv('../data/SemEval2018-Task1-all-data/English/V-reg/2018-Valence-reg-En-test-gold.txt',\n",
        "                       sep='\\t', index_col=0)"
      ],
      "outputs": [],
      "execution_count": null,
      "metadata": {
        "id": "-w6q4eEPKCu4"
      }
    },
    {
      "cell_type": "code",
      "source": [
        "# A few examples\n",
        "\ntrain_df.head()"
      ],
      "outputs": [],
      "execution_count": null,
      "metadata": {
        "id": "rrtR0AaLKC1f"
      }
    },
    {
      "cell_type": "code",
      "source": [
        "# Convert all the labels from real numbers into boolean values,\n",
        "# setting the threshold at 0.5, and creating a new column named\n",
        "# `label`\n",
        "\n",
        "train_df['label'] = train_df['Intensity Score'] > 0.5\n",
        "dev_df['label'] = dev_df['Intensity Score'] > 0.5\n",
        "test_df['label'] = test_df['Intensity Score'] > 0.5"
      ],
      "outputs": [],
      "execution_count": null,
      "metadata": {
        "id": "vuw2NxOJKCyR"
      }
    },
    {
      "cell_type": "markdown",
      "source": [
        "Now, let's download the **complete** word2voc word embedding, (which is not filtered only to lowercased words), and load it using the `gensim` Python package."
      ],
      "metadata": {
        "id": "F8ktamj9Lzvw"
      }
    },
    {
      "cell_type": "code",
      "source": [
        "!wget https://s3.amazonaws.com/dl4j-distribution/GoogleNews-vectors-negative300.bin.gz"
      ],
      "outputs": [],
      "execution_count": null,
      "metadata": {
        "id": "RJLEhGpaLyH2"
      }
    },
    {
      "cell_type": "code",
      "source": [
        "from gensim.models import KeyedVectors\n",
        "\n",
        "# Limit vocabulary to top-500K most frequent words\n",
        "VOCAB_SIZE = 500000\n",
        "\n",
        "# Load the word2vec\n",
        "w2v_model = KeyedVectors.load_word2vec_format('GoogleNews-vectors-negative300.bin.gz',\n",
        "                                              binary=True,\n",
        "                                              limit=VOCAB_SIZE)"
      ],
      "outputs": [],
      "execution_count": null,
      "metadata": {
        "id": "UjmXQTC9Lw3U"
      }
    },
    {
      "cell_type": "code",
      "source": [
        "# Get the vector embedding for a word\n",
        "w2v_model['home']"
      ],
      "outputs": [],
      "execution_count": null,
      "metadata": {
        "id": "mv2O-OS6KCsq"
      }
    },
    {
      "cell_type": "code",
      "source": [
        "# Check whether there is an embedding for a word\n",
        "'bazinga' in w2v_model"
      ],
      "outputs": [],
      "execution_count": null,
      "metadata": {
        "id": "T-eIToHETM6o"
      }
    },
    {
      "cell_type": "markdown",
      "source": [
        "### Preprocessing & feature extraction\n",
        "\n",
        "Before we transform a tweet into a vector of 300 dimensions, it should be broken into tokens (\"words\") and be cleaned. You can do that with various Python packages for NLP, such as [NLTK](https://www.nltk.org/) and \n",
        "[spaCy](https://spacy.io/). Feel free to use them if you would like to! We will use the basic preprocessing functionality that comes with [`gensim`](https://radimrehurek.com/gensim/parsing/preprocessing.html)."
      ],
      "metadata": {
        "id": "S8LfyJnzNIy1"
      }
    },
    {
      "cell_type": "code",
      "source": [
        "from gensim.parsing.preprocessing import (preprocess_string,\n",
        "                                          strip_tags,\n",
        "                                          strip_punctuation,\n",
        "                                          strip_multiple_whitespaces,\n",
        "                                          strip_numeric,\n",
        "                                          remove_stopwords)\n",
        "\n\n",
        "# We pick a subset of the default filters,\n",
        "# in particular, we do not take\n",
        "# strip_short() and stem_text().\n",
        "FILTERS = [strip_punctuation,\n",
        "           strip_tags,\n",
        "           strip_multiple_whitespaces,\n",
        "           strip_numeric,\n",
        "           remove_stopwords]\n",
        "\n",
        "# See how the sentece is transformed into tokes (words)\n",
        "preprocess_string('This is a \"short\" text!', FILTERS)"
      ],
      "outputs": [],
      "execution_count": null,
      "metadata": {
        "id": "SbQRZlFIshUb"
      }
    },
    {
      "cell_type": "markdown",
      "source": [
        "After preprocessing all the tweets, we get tokens. We transform each token into a 300d vector using the word embedding and then compute the *average* vector. It will have 300 dimensions as well. This vector serves as the values of the features for each tweet. \n",
        "\n",
        "Note for these two possible pitfalls:\n",
        "\n",
        "1. Make sure that the token exists int he word embedding.\n",
        "2. Sometimes, there are tweets without any token found in the word embedding. Discard these tweets from the data. Keep in mind that you should discard the labels as well.\n",
        "\nWrite the function `generate_text_features(text, w2v)` that gets a string `text` and a word embedding `w2v` and produces the features of this text according to the method xdescribed above. The function should return an Numpy array with lengh of 300."
      ],
      "metadata": {
        "id": "o_pi5WFOOcsb"
      }
    },
    {
      "cell_type": "code",
      "source": [
        "### SOLUTION ###\n",
        "\n",
        "import numpy as np\n",
        "\n\n",
        "def generate_text_features(text, w2v):\n",
        "    preprocessed_text = preprocess_string(text, FILTERS)\n",
        "    vectors = [w2v[token] for token in preprocessed_text\n",
        "              if token in w2v]\n",
        "    return np.mean(vectors, axis=0)"
      ],
      "outputs": [],
      "execution_count": null,
      "metadata": {
        "id": "mEn8ecmrsutk"
      }
    },
    {
      "cell_type": "markdown",
      "source": [
        "Now, use this function to produce the features for all three datasets (training, validation, test)."
      ],
      "metadata": {
        "id": "JDSaVGfzP0Em"
      }
    },
    {
      "cell_type": "code",
      "source": [
        "### SOLUTION ###\n",
        "\n",
        "def generate_dataset_features(df, w2v, text_col, label_col=None):\n",
        "    features = df[text_col].apply(lambda t: generate_text_features(t, w2v))\n",
        "    na_mask = features.isna()\n",
        "\n",
        "    features = features[~na_mask]\n",
        "    X = np.stack(features)\n",
        "\n",
        "    y = (df[label_col][~na_mask].round().astype(int)\n",
        "    if label_col else None)\n",
        "\n",
        "    return X, y\n",
        "\n\n",
        "X_train, y_train = generate_dataset_features(train_df, w2v_model,\n",
        "                                             'Tweet', 'Intensity Score')\n",
        "X_dev, y_dev = generate_dataset_features(dev_df, w2v_model,\n",
        "                                         'Tweet', 'Intensity Score')\n",
        "X_test, y_test = generate_dataset_features(test_df, w2v_model,\n",
        "                                           'Tweet', 'Intensity Score')"
      ],
      "outputs": [],
      "execution_count": null,
      "metadata": {
        "id": "sl0aYxLNQTs3"
      }
    },
    {
      "cell_type": "markdown",
      "source": [
        "### Training a classifier\n",
        "\n",
        "The next step is straightforward, train logistic regression on the dataset. Report the accuracy of the training and the test dataset.\n",
        "\nWe recommend using [`sklearn.linear_model.LogisticRegression`](https://scikit-learn.org/stable/modules/generated/sklearn.linear_model.LogisticRegression.html)."
      ],
      "metadata": {
        "id": "MEM-riKyvdKo"
      }
    },
    {
      "cell_type": "code",
      "source": [
        "### SOLUTION ###\n",
        "\n",
        "from sklearn.linear_model import LogisticRegression\n",
        "\n",
        "clf = LogisticRegression().fit(X_train, y_train)\n",
        "print(clf.score(X_train, y_train), clf.score(X_test, y_test))"
      ],
      "outputs": [],
      "execution_count": null,
      "metadata": {
        "id": "9eMRIjj3REvG"
      }
    },
    {
      "cell_type": "markdown",
      "source": [
        "### Evaluate gender bias in the downstream appliation\n",
        "\n",
        "The **Equity Evaluation Corpus (EEC)** consists of 8,640 English sentences carefully chosen to tease out biases towards certain races and genders.\n",
        "\n",
        "We foucs on the sentences releated to gender. Every sentence is a build out of three elements:\n",
        "\n",
        "1. Person (e.g., `he`, `this woman`, `my uncly`, `my mother`)\n",
        "2. Emotion word (e.g., `anger`, `happy`, `gloomy`, `amazing`)\n",
        "3. Template (e.g., `<person subject> feels <emotion word>`).\n",
        "\n",
        "that are mixed together to form a sentence, for examples:\n",
        "* he feels anger\n",
        "* she feels anger\n",
        "* this woman feels happy\n",
        "* this man feels happy\n",
        "\n",
        "Thanks to this systemic constraction from templates, the sentence are paired by gender, i.e. the EEC data is built of pairs of sentences that are all the same except for a gender noun (e.g., `she`-`he`, `my mother`-`my father`). If we think about sentiment analysis, there is no reason that the a system would assign different prediction to the paird sentences! So if we find differce in that, it could point for a potential gender bias in the downstream application.\n",
        "\n",
        "#### Keep in mind, this is only an operalization of the gender bias in a sentiment analysis system. All the issues with a concreate and single measurement arise also here! We should always take into accout the human contex in which the system is deployed!\n",
        "\n\nThe following cell is just for some data preperation, and it is not important to understand it; neverthless, make sure you run it!"
      ],
      "metadata": {
        "id": "bdDLoHIBRV_B"
      }
    },
    {
      "cell_type": "code",
      "source": [
        "# 🛠 Prepare the EEC data, no need to dig into this cell\n",
        "\n",
        "eec_df = pd.read_csv('../data/Equity-Evaluation-Corpus/Equity-Evaluation-Corpus.csv')\n",
        "\n",
        "# Remove the sentences for evaluating racial bias\n",
        "gender_eec_df = eec_df[eec_df['Race'].isna()][:]\n",
        "\n",
        "# Create identifier to mach sentence pairs\n",
        "# The EEC data comes withot this matching\n",
        "MALE_PERSONS = ('he', 'this man', 'this boy', 'my brother', 'my son', 'my husband',\n",
        "                'my boyfriend', 'my father', 'my uncle', 'my dad', 'him')\n",
        "\n",
        "FEMALE_PERSONS = ('she', 'this woman', 'this girl', 'my sister', 'my daughter', 'my wife',\n",
        "                  'my girlfriend', 'my mother', 'my aunt', 'my mom', 'her')\n",
        "\n",
        "MALE_IDENTIFIER = dict(zip(MALE_PERSONS, FEMALE_PERSONS))\n",
        "FEMALE_IDENTIFIER = dict(zip(FEMALE_PERSONS, FEMALE_PERSONS))\n",
        "\n",
        "PERSON_MATCH_WORDS = {**MALE_IDENTIFIER,\n",
        "                      **FEMALE_IDENTIFIER}\n",
        "\n",
        "gender_eec_df['PersonIdentifier'] = gender_eec_df['Person'].map(PERSON_MATCH_WORDS)\n",
        "\n",
        "gender_eec_df = gender_eec_df.sort_values(['Gender', 'Template', 'Emotion word', 'PersonIdentifier'])\n",
        "\n",
        "gender_split_index = len(gender_eec_df) // 2\n",
        "\n",
        "# Create two DataFrames, one for \n",
        "female_eec_df = gender_eec_df[:gender_split_index].reset_index(False)\n",
        "male_eec_df = gender_eec_df[gender_split_index:].reset_index(False)"
      ],
      "outputs": [],
      "execution_count": null,
      "metadata": {
        "id": "3Z60x-8iuWGM"
      }
    },
    {
      "cell_type": "code",
      "source": [
        "female_eec_df.head()"
      ],
      "outputs": [],
      "execution_count": null,
      "metadata": {
        "id": "5yKi4SYCPcc4"
      }
    },
    {
      "cell_type": "code",
      "source": [
        "male_eec_df.head()"
      ],
      "outputs": [],
      "execution_count": null,
      "metadata": {
        "id": "wwxLn-WbxbwV"
      }
    },
    {
      "cell_type": "markdown",
      "source": [
        "Note that the two DataFrames are paired by index. If we take that *i*-th row in each one of them, then they are different only in the matched person word:"
      ],
      "metadata": {
        "id": "7KOoYeQCQ9JU"
      }
    },
    {
      "cell_type": "code",
      "source": [
        "k = 543  # change my value and run the cell again!\n",
        "female_eec_df.iloc[k]['Sentence'], male_eec_df.iloc[k]['Sentence']"
      ],
      "outputs": [],
      "execution_count": null,
      "metadata": {
        "id": "8ZCc8eadRH-k"
      }
    },
    {
      "cell_type": "markdown",
      "source": [
        "Compute the probability estimations of the classifier for the female and male parts in the EEC data. If you use `sklearn`, then the classifier's method `predict_proba` is your friend for that!"
      ],
      "metadata": {
        "id": "-TH3wHOe5xN4"
      }
    },
    {
      "cell_type": "code",
      "source": [
        "### SOLUTION ###\n",
        "\n",
        "X_male_eec, _ = generate_dataset_features(male_eec_df, w2v_model, 'Sentence')\n",
        "X_female_eec, _ = generate_dataset_features(female_eec_df, w2v_model, 'Sentence')\n",
        "\n",
        "male_eec_df['probs_orig'] = clf.predict_proba(X_male_eec)[:, 1]\n",
        "female_eec_df['probs_orig'] = clf.predict_proba(X_female_eec)[:, 1]"
      ],
      "outputs": [],
      "execution_count": null,
      "metadata": {
        "id": "ASdKJWk_C9rq"
      }
    },
    {
      "cell_type": "markdown",
      "source": [
        "### Do the same for the neutralize-\"debiased\" word2vec\n",
        "\nPerform the all the previous steps for the neutralize-\"debiased\" word2vec to produce the probability estimations of the EEC data for the classifier using that word-embedding"
      ],
      "metadata": {
        "id": "4hGJspuayGmq"
      }
    },
    {
      "cell_type": "markdown",
      "source": [
        "#### Neutralize-\"debias\" the word embedding\n",
        "\n",
        "Hints:\n",
        "1. Use [`responsibly.we.GenderBiasWE`](https://docs.responsibly.ai/word-embedding-bias.html). \n",
        "2. Look for the method `debias`.\n",
        "3. Set the `method` argument to `'neutralize'`. \n",
        "4. Make sure that you set `inplace=True` to save memory. Note that you won't be able to work with the original word embedding after that.\n",
        "5. Validate the neutralize-\"debias\" was applied by computing the direct bias measure with the method `calc_direct_bias`.\n",
        "6. After the bias mitigating, the word embedding itself (as a `KeyedVectors` of `gensim`), is accessible through the attribute `model`."
      ],
      "metadata": {
        "id": "1HAqdHCO7KhQ"
      }
    },
    {
      "cell_type": "code",
      "source": [
        "### SOLUTION ###\n",
        "\n",
        "from responsibly.we import GenderBiasWE\n",
        "\n",
        "gbwe = GenderBiasWE(w2v_model)\n",
        "gbwe.debias('neutralize', inplace=True)\n",
        "print(gbwe.calc_direct_bias())\n",
        "w2v_db_model = gbwe.model"
      ],
      "outputs": [],
      "execution_count": null,
      "metadata": {
        "id": "T7CQ4Xz-7hBx"
      }
    },
    {
      "cell_type": "markdown",
      "source": [
        "#### Generate features with the \"debiased\" word embedding and train a new classifier\n",
        "\nCheck the classifier's accuracy on the training and the test data - did the \"debiasing\" of the word embeddings hurt the classifier performance?"
      ],
      "metadata": {
        "id": "NuCEd3hVDNEF"
      }
    },
    {
      "cell_type": "code",
      "source": [
        "### SOLUTION ###\n",
        "\n",
        "X_db_train, y_db_train = generate_dataset_features(train_df, w2v_db_model,\n",
        "                                             'Tweet', 'Intensity Score')\n",
        "X_db_dev, y_db_dev = generate_dataset_features(dev_df, w2v_db_model,\n",
        "                                         'Tweet', 'Intensity Score')\n",
        "X_db_test, y_db_test = generate_dataset_features(test_df, w2v_db_model,\n",
        "                                           'Tweet', 'Intensity Score')\n",
        "\n\n",
        "clf_db = LogisticRegression().fit(X_db_train, y_db_train)\n",
        "print(clf_db.score(X_db_train, y_db_train), clf_db.score(X_db_test, y_db_test))"
      ],
      "outputs": [],
      "execution_count": null,
      "metadata": {
        "id": "EOe-fwnnDT7C"
      }
    },
    {
      "cell_type": "markdown",
      "source": [
        "#### Compute the probability estimations for the male and female sentences in the EEC data with the new classifier"
      ],
      "metadata": {
        "id": "0PyZXIUiDU3l"
      }
    },
    {
      "cell_type": "code",
      "source": [
        "### SOLUTION ###\n",
        "\n",
        "X_db_male_eec, _ = generate_dataset_features(male_eec_df, w2v_model, 'Sentence')\n",
        "X_db_female_eec, _ = generate_dataset_features(female_eec_df, w2v_model, 'Sentence')\n",
        "\n",
        "male_eec_df['probs_db'] = clf_db.predict_proba(X_db_male_eec)[:, 1]\n",
        "female_eec_df['probs_db'] = clf_db.predict_proba(X_db_female_eec)[:, 1]"
      ],
      "outputs": [],
      "execution_count": null,
      "metadata": {
        "id": "mTLXhU0RDjNy"
      }
    },
    {
      "cell_type": "markdown",
      "source": [
        "### Gender bias analysis\n",
        "\n",
        "Now we are ready to blend all together. You have two classifiers, each one of them was trained on the same dataset, but with a different word embedding. The first used the original word2vec, and the other was undergone the neutralize-\"debias\" process. We computed the probability estimates for the EEC data twice for each one of the classifiers.\n",
        "\n\n",
        "**Think about how to evaluate the impact of replacing the word embedding concerning gender bias. Keep in mind that the female and male EEC data is paired!**\n",
        "\n",
        "#### Your analysis can take two points of view (there are more, but you start with that):\n",
        "1. Analyze the difference between the female and male probability estimations for each system *separately* and compare the results.\n",
        "2. Analyze the difference of differences; start with the difference of probability estimations between the paired female and male sentences for each system, and then compare the two differences.\n",
        "\n\n",
        "#### Few possible ideas of what to do:\n",
        "1. Plot distributions  ([`seaborn.displot`](https://seaborn.pydata.org/generated/seaborn.displot.html#seaborn.displot))\n",
        "2. Compute the [effect size](https://en.wikipedia.org/wiki/Effect_size#Cohen's_d)\n",
        "3. Perform statistical hypothesis testings to check whether means are eqaul using the paired t-test ([`scipy.stats.ttest_rel`])"
      ],
      "metadata": {
        "id": "cNldyVC_4O5k"
      }
    },
    {
      "cell_type": "code",
      "source": [
        "### SOLUTION ###\n",
        "\n",
        "import matplotlib.pylab as plt\n",
        "import seaborn as sns\n",
        "\n",
        "diff_orig = male_eec_df['probs_orig'] - female_eec_df['probs_orig']\n",
        "diff_db = male_eec_df['probs_db'] - female_eec_df['probs_db']\n",
        "\n\n",
        "##############################\n",
        "\n\n",
        "_, ax = plt.subplots()\n",
        "sns.kdeplot(male_eec_df['probs_orig'], label='original-male', ax=ax)\n",
        "sns.kdeplot(female_eec_df['probs_orig'], label='original-female', ax=ax)\n",
        "sns.kdeplot(male_eec_df['probs_db'], label='db-male', ax=ax)\n",
        "sns.kdeplot(female_eec_df['probs_db'], label='db-female', ax=ax)\n",
        "ax.legend()\n",
        "\n",
        "_, ax = plt.subplots()\n",
        "sns.ecdfplot(diff_orig, label='original', ax=ax)\n",
        "sns.ecdfplot(diff_db, label='db', ax=ax)\n",
        "ax.legend()\n",
        "\n",
        "_, ax = plt.subplots()\n",
        "sns.kdeplot(diff_orig, label='original', ax=ax)\n",
        "sns.kdeplot(diff_db, label='db', ax=ax)\n",
        "ax.legend()\n",
        "\n\n",
        "##############################\n",
        "\n\n",
        "from scipy.stats import ttest_rel\n",
        "\n\n",
        "print(ttest_rel(male_eec_df['probs_orig'], female_eec_df['probs_orig']))\n",
        "\nprint(ttest_rel(male_eec_df['probs_db'], female_eec_df['probs_db']))"
      ],
      "outputs": [],
      "execution_count": null,
      "metadata": {
        "id": "Rz8SdPr9C-3p"
      }
    },
    {
      "cell_type": "markdown",
      "source": [
        "#### What is your conclusion? What would be your next steps?\n",
        "\n",
        "Consider:\n",
        "\n",
        "1. Group by the analysis according to the EEC columns (e.g., by emotion)\n",
        "2. Try another classifier (e.g., `sklearn.ensemble.RandomForestClassifier`)\n",
        "3. Change the mitigation bias to *hard* instead of *neutralize*.\n",
        "4. Analyze the training data from gender prespective\n",
        "\n\n\n",
        "Refer to this paper for some ideas:\n",
        "[Examining Gender and Race Bias in Two Hundred Sentiment Analysis Systems](http://saifmohammad.com/WebDocs/EEC/ethics-StarSem-final_with_appendix.pdf). Svetlana Kiritchenko and Saif M. Mohammad. In Proceedings of *Sem, New Orleans, LA, USA, June 2018."
      ],
      "metadata": {
        "id": "xpwTNQr7Oe-a"
      }
    },
    {
      "cell_type": "markdown",
      "source": [
        "#### Finding\n",
        "The results of the paired t-tests suggest that the \"neutralize\" method reduced the gender bias in the senitment analysis system **AS IT IS MEASURED BY THE EEC DATA**."
      ],
      "metadata": {}
    }
  ],
  "metadata": {
    "colab": {
      "collapsed_sections": [],
      "name": "Kopie von 5-exercises.ipynb",
      "provenance": [],
      "toc_visible": true
    },
    "kernelspec": {
      "name": "python3",
      "language": "python",
      "display_name": "Python 3"
    },
    "language_info": {
      "name": "python",
      "version": "3.8.3",
      "mimetype": "text/x-python",
      "codemirror_mode": {
        "name": "ipython",
        "version": 3
      },
      "pygments_lexer": "ipython3",
      "nbconvert_exporter": "python",
      "file_extension": ".py"
    },
    "kernel_info": {
      "name": "python3"
    },
    "nteract": {
      "version": "0.12.3"
    }
  },
  "nbformat": 4,
  "nbformat_minor": 1
}